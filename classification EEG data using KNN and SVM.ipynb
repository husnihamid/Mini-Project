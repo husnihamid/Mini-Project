{
  "nbformat": 4,
  "nbformat_minor": 0,
  "metadata": {
    "colab": {
      "provenance": []
    },
    "kernelspec": {
      "name": "python3",
      "display_name": "Python 3"
    },
    "language_info": {
      "name": "python"
    }
  },
  "cells": [
    {
      "cell_type": "code",
      "source": [
        "import pandas as pd\n",
        "from sklearn.model_selection import train_test_split, KFold, cross_val_score\n",
        "from sklearn.svm import SVC\n",
        "from sklearn.neighbors import KNeighborsClassifier\n",
        "from sklearn.metrics import accuracy_score, f1_score, precision_score, recall_score, confusion_matrix\n",
        "\n",
        "# Load datasets from Excel files: CPA1, CPA2, ..., CPB7\n",
        "datasets = {\n",
        "    \"CPA1\": pd.read_excel('CPA1.xlsx'),\n",
        "    \"CPA2\": pd.read_excel('CPA2.xlsx'),\n",
        "    \"CPA3\": pd.read_excel('CPA3.xlsx'),\n",
        "    \"CPB1\": pd.read_excel('CPB1.xlsx'),\n",
        "    \"CPB2\": pd.read_excel('CPB2.xlsx'),\n",
        "    \"CPB3\": pd.read_excel('CPB3.xlsx'),\n",
        "    \"CPB4\": pd.read_excel('CPB4.xlsx'),\n",
        "    \"CPB5\": pd.read_excel('CPB5.xlsx'),\n",
        "    \"CPB6\": pd.read_excel('CPB6.xlsx'),\n",
        "    \"CPB7\": pd.read_excel('CPB7.xlsx')\n",
        "}\n",
        "\n",
        "def evaluate_classifier(X, y, classifier, cv=10):\n",
        "    results = []\n",
        "\n",
        "    # 10-fold Cross Validation\n",
        "    kf = KFold(n_splits=cv, shuffle=True, random_state=42)\n",
        "    scores = cross_val_score(classifier, X, y, cv=kf, scoring='f1_macro')\n",
        "    y_pred = classifier.fit(X, y).predict(X)\n",
        "    tn, fp, fn, tp = confusion_matrix(y, y_pred).ravel()\n",
        "    sensitivity = tp / (tp + fn)\n",
        "    specificity = tn / (tn + fp)\n",
        "    accuracy = accuracy_score(y, y_pred)\n",
        "    results.append(['10-fold Cross Validation',\n",
        "                    f'{accuracy:.3f}',\n",
        "                    f'{scores.mean():.3f} (+/- {scores.std():.3f})',\n",
        "                    f'{sensitivity:.3f}',\n",
        "                    f'{specificity:.3f}'])\n",
        "\n",
        "    # Train-test split: 75% training, 25% testing\n",
        "    X_train, X_test, y_train, y_test = train_test_split(X, y, test_size=0.25, random_state=42)\n",
        "    classifier.fit(X_train, y_train)\n",
        "    y_pred = classifier.predict(X_test)\n",
        "    results.append(['75% training, 25% testing',\n",
        "                    f'{accuracy_score(y_test, y_pred):.3f}',\n",
        "                    f'{f1_score(y_test, y_pred, average=\"macro\"):.3f}',\n",
        "                    f'{recall_score(y_test, y_pred, average=\"macro\"):.3f}',\n",
        "                    f'{precision_score(y_test, y_pred, average=\"macro\"):.3f}'])\n",
        "\n",
        "    # Train-validation-test split: 50% training, 25% validation, 25% testing\n",
        "    X_train, X_tmp, y_train, y_tmp = train_test_split(X, y, test_size=0.5, random_state=42)\n",
        "    X_val, X_test, y_val, y_test = train_test_split(X_tmp, y_tmp, test_size=0.5, random_state=42)\n",
        "    classifier.fit(X_train, y_train)\n",
        "    y_pred = classifier.predict(X_test)\n",
        "    results.append(['50% training, 25% validation, 25% testing',\n",
        "                    f'{accuracy_score(y_test, y_pred):.3f}',\n",
        "                    f'{f1_score(y_test, y_pred, average=\"macro\"):.3f}',\n",
        "                    f'{recall_score(y_test, y_pred, average=\"macro\"):.3f}',\n",
        "                    f'{precision_score(y_test, y_pred, average=\"macro\"):.3f}'])\n",
        "\n",
        "    return results\n",
        "\n",
        "# Perform classification for each dataset and save results to Excel\n",
        "all_results = []\n",
        "for dataset_name, dataset in datasets.items():\n",
        "    print(f\"\\nClassification for dataset {dataset_name}\")\n",
        "    X = dataset[['powLv1', 'powLv2', 'powLv3', 'powLv4', 'powLv5']]\n",
        "    y = dataset['kelas']\n",
        "    classifiers = {\n",
        "        \"SVM\": SVC(),\n",
        "        \"K-NN\": KNeighborsClassifier()\n",
        "    }\n",
        "    for classifier_name, classifier in classifiers.items():\n",
        "        print(f\"\\nUsing {classifier_name}:\")\n",
        "        results = evaluate_classifier(X, y, classifier)\n",
        "        headers = ['Evaluation', 'Accuracy', 'F1-Score', 'Sensitivity', 'Specificity']\n",
        "        print(tabulate(results, headers=headers, tablefmt='github'))\n",
        "        all_results.extend([(dataset_name, classifier_name, *result) for result in results])\n",
        "\n",
        "# Create a DataFrame from all results\n",
        "df_results = pd.DataFrame(all_results, columns=['Dataset', 'Classifier', 'Evaluation', 'Accuracy', 'F1-Score', 'Sensitivity', 'Specificity'])\n",
        "\n",
        "# Save results to Excel\n",
        "df_results.to_excel('classification_results.xlsx', index=False)\n",
        "print(\"Results saved to 'classification_results.xlsx'\")\n"
      ],
      "metadata": {
        "colab": {
          "base_uri": "https://localhost:8080/"
        },
        "id": "Tqk0iw4gubAC",
        "outputId": "99685289-d833-412a-97d8-3347aed3b7ab"
      },
      "execution_count": 11,
      "outputs": [
        {
          "output_type": "stream",
          "name": "stdout",
          "text": [
            "\n",
            "Classification for dataset CPA1\n",
            "\n",
            "Using SVM:\n"
          ]
        },
        {
          "output_type": "stream",
          "name": "stderr",
          "text": [
            "/usr/local/lib/python3.10/dist-packages/sklearn/metrics/_classification.py:1344: UndefinedMetricWarning: Precision is ill-defined and being set to 0.0 in labels with no predicted samples. Use `zero_division` parameter to control this behavior.\n",
            "  _warn_prf(average, modifier, msg_start, len(result))\n",
            "/usr/local/lib/python3.10/dist-packages/sklearn/metrics/_classification.py:1344: UndefinedMetricWarning: Precision is ill-defined and being set to 0.0 in labels with no predicted samples. Use `zero_division` parameter to control this behavior.\n",
            "  _warn_prf(average, modifier, msg_start, len(result))\n"
          ]
        },
        {
          "output_type": "stream",
          "name": "stdout",
          "text": [
            "| Evaluation                                |   Accuracy | F1-Score          |   Sensitivity |   Specificity |\n",
            "|-------------------------------------------|------------|-------------------|---------------|---------------|\n",
            "| 10-fold Cross Validation                  |      0.525 | 0.351 (+/- 0.097) |          0.89 |          0.16 |\n",
            "| 75% training, 25% testing                 |      0.46  | 0.315             |          0.5  |          0.23 |\n",
            "| 50% training, 25% validation, 25% testing |      0.42  | 0.296             |          0.5  |          0.21 |\n",
            "\n",
            "Using K-NN:\n",
            "| Evaluation                                |   Accuracy | F1-Score          |   Sensitivity |   Specificity |\n",
            "|-------------------------------------------|------------|-------------------|---------------|---------------|\n",
            "| 10-fold Cross Validation                  |      0.825 | 0.732 (+/- 0.093) |         0.78  |         0.87  |\n",
            "| 75% training, 25% testing                 |      0.76  | 0.758             |         0.758 |         0.758 |\n",
            "| 50% training, 25% validation, 25% testing |      0.62  | 0.616             |         0.62  |         0.617 |\n",
            "\n",
            "Classification for dataset CPA2\n",
            "\n",
            "Using SVM:\n"
          ]
        },
        {
          "output_type": "stream",
          "name": "stderr",
          "text": [
            "/usr/local/lib/python3.10/dist-packages/sklearn/metrics/_classification.py:1344: UndefinedMetricWarning: Precision is ill-defined and being set to 0.0 in labels with no predicted samples. Use `zero_division` parameter to control this behavior.\n",
            "  _warn_prf(average, modifier, msg_start, len(result))\n",
            "/usr/local/lib/python3.10/dist-packages/sklearn/metrics/_classification.py:1344: UndefinedMetricWarning: Precision is ill-defined and being set to 0.0 in labels with no predicted samples. Use `zero_division` parameter to control this behavior.\n",
            "  _warn_prf(average, modifier, msg_start, len(result))\n"
          ]
        },
        {
          "output_type": "stream",
          "name": "stdout",
          "text": [
            "| Evaluation                                |   Accuracy | F1-Score          |   Sensitivity |   Specificity |\n",
            "|-------------------------------------------|------------|-------------------|---------------|---------------|\n",
            "| 10-fold Cross Validation                  |       0.66 | 0.402 (+/- 0.145) |           0.8 |          0.52 |\n",
            "| 75% training, 25% testing                 |       0.46 | 0.315             |           0.5 |          0.23 |\n",
            "| 50% training, 25% validation, 25% testing |       0.42 | 0.296             |           0.5 |          0.21 |\n",
            "\n",
            "Using K-NN:\n",
            "| Evaluation                                |   Accuracy | F1-Score          |   Sensitivity |   Specificity |\n",
            "|-------------------------------------------|------------|-------------------|---------------|---------------|\n",
            "| 10-fold Cross Validation                  |      0.795 | 0.728 (+/- 0.141) |         0.72  |         0.87  |\n",
            "| 75% training, 25% testing                 |      0.82  | 0.819             |         0.82  |         0.819 |\n",
            "| 50% training, 25% validation, 25% testing |      0.66  | 0.660             |         0.681 |         0.683 |\n",
            "\n",
            "Classification for dataset CPA3\n",
            "\n",
            "Using SVM:\n",
            "| Evaluation                                |   Accuracy | F1-Score          |   Sensitivity |   Specificity |\n",
            "|-------------------------------------------|------------|-------------------|---------------|---------------|\n",
            "| 10-fold Cross Validation                  |      0.667 | 0.398 (+/- 0.037) |           0   |         1     |\n",
            "| 75% training, 25% testing                 |      0.667 | 0.400             |           0.5 |         0.333 |\n",
            "| 50% training, 25% validation, 25% testing |      0.707 | 0.414             |           0.5 |         0.353 |\n",
            "\n",
            "Using K-NN:\n"
          ]
        },
        {
          "output_type": "stream",
          "name": "stderr",
          "text": [
            "/usr/local/lib/python3.10/dist-packages/sklearn/metrics/_classification.py:1344: UndefinedMetricWarning: Precision is ill-defined and being set to 0.0 in labels with no predicted samples. Use `zero_division` parameter to control this behavior.\n",
            "  _warn_prf(average, modifier, msg_start, len(result))\n",
            "/usr/local/lib/python3.10/dist-packages/sklearn/metrics/_classification.py:1344: UndefinedMetricWarning: Precision is ill-defined and being set to 0.0 in labels with no predicted samples. Use `zero_division` parameter to control this behavior.\n",
            "  _warn_prf(average, modifier, msg_start, len(result))\n"
          ]
        },
        {
          "output_type": "stream",
          "name": "stdout",
          "text": [
            "| Evaluation                                |   Accuracy | F1-Score          |   Sensitivity |   Specificity |\n",
            "|-------------------------------------------|------------|-------------------|---------------|---------------|\n",
            "| 10-fold Cross Validation                  |      0.81  | 0.688 (+/- 0.119) |         0.62  |         0.905 |\n",
            "| 75% training, 25% testing                 |      0.773 | 0.723             |         0.71  |         0.756 |\n",
            "| 50% training, 25% validation, 25% testing |      0.773 | 0.715             |         0.707 |         0.727 |\n",
            "\n",
            "Classification for dataset CPB1\n",
            "\n",
            "Using SVM:\n",
            "| Evaluation                                |   Accuracy | F1-Score          |   Sensitivity |   Specificity |\n",
            "|-------------------------------------------|------------|-------------------|---------------|---------------|\n",
            "| 10-fold Cross Validation                  |      0.635 | 0.400 (+/- 0.159) |          0.99 |          0.28 |\n",
            "| 75% training, 25% testing                 |      0.46  | 0.315             |          0.5  |          0.23 |\n",
            "| 50% training, 25% validation, 25% testing |      0.42  | 0.296             |          0.5  |          0.21 |\n",
            "\n",
            "Using K-NN:\n"
          ]
        },
        {
          "output_type": "stream",
          "name": "stderr",
          "text": [
            "/usr/local/lib/python3.10/dist-packages/sklearn/metrics/_classification.py:1344: UndefinedMetricWarning: Precision is ill-defined and being set to 0.0 in labels with no predicted samples. Use `zero_division` parameter to control this behavior.\n",
            "  _warn_prf(average, modifier, msg_start, len(result))\n",
            "/usr/local/lib/python3.10/dist-packages/sklearn/metrics/_classification.py:1344: UndefinedMetricWarning: Precision is ill-defined and being set to 0.0 in labels with no predicted samples. Use `zero_division` parameter to control this behavior.\n",
            "  _warn_prf(average, modifier, msg_start, len(result))\n"
          ]
        },
        {
          "output_type": "stream",
          "name": "stdout",
          "text": [
            "| Evaluation                                |   Accuracy | F1-Score          |   Sensitivity |   Specificity |\n",
            "|-------------------------------------------|------------|-------------------|---------------|---------------|\n",
            "| 10-fold Cross Validation                  |       0.89 | 0.879 (+/- 0.051) |         0.89  |         0.89  |\n",
            "| 75% training, 25% testing                 |       0.88 | 0.879             |         0.879 |         0.879 |\n",
            "| 50% training, 25% validation, 25% testing |       0.8  | 0.799             |         0.808 |         0.8   |\n",
            "\n",
            "Classification for dataset CPB2\n",
            "\n",
            "Using SVM:\n",
            "| Evaluation                                |   Accuracy | F1-Score          |   Sensitivity |   Specificity |\n",
            "|-------------------------------------------|------------|-------------------|---------------|---------------|\n",
            "| 10-fold Cross Validation                  |       0.64 | 0.399 (+/- 0.157) |           1   |          0.28 |\n",
            "| 75% training, 25% testing                 |       0.46 | 0.315             |           0.5 |          0.23 |\n",
            "| 50% training, 25% validation, 25% testing |       0.42 | 0.296             |           0.5 |          0.21 |\n",
            "\n",
            "Using K-NN:\n"
          ]
        },
        {
          "output_type": "stream",
          "name": "stderr",
          "text": [
            "/usr/local/lib/python3.10/dist-packages/sklearn/metrics/_classification.py:1344: UndefinedMetricWarning: Precision is ill-defined and being set to 0.0 in labels with no predicted samples. Use `zero_division` parameter to control this behavior.\n",
            "  _warn_prf(average, modifier, msg_start, len(result))\n",
            "/usr/local/lib/python3.10/dist-packages/sklearn/metrics/_classification.py:1344: UndefinedMetricWarning: Precision is ill-defined and being set to 0.0 in labels with no predicted samples. Use `zero_division` parameter to control this behavior.\n",
            "  _warn_prf(average, modifier, msg_start, len(result))\n"
          ]
        },
        {
          "output_type": "stream",
          "name": "stdout",
          "text": [
            "| Evaluation                                |   Accuracy | F1-Score          |   Sensitivity |   Specificity |\n",
            "|-------------------------------------------|------------|-------------------|---------------|---------------|\n",
            "| 10-fold Cross Validation                  |       0.9  | 0.860 (+/- 0.058) |         0.93  |         0.87  |\n",
            "| 75% training, 25% testing                 |       0.88 | 0.880             |         0.882 |         0.88  |\n",
            "| 50% training, 25% validation, 25% testing |       0.8  | 0.800             |         0.821 |         0.821 |\n",
            "\n",
            "Classification for dataset CPB3\n",
            "\n",
            "Using SVM:\n"
          ]
        },
        {
          "output_type": "stream",
          "name": "stderr",
          "text": [
            "/usr/local/lib/python3.10/dist-packages/sklearn/metrics/_classification.py:1344: UndefinedMetricWarning: Precision is ill-defined and being set to 0.0 in labels with no predicted samples. Use `zero_division` parameter to control this behavior.\n",
            "  _warn_prf(average, modifier, msg_start, len(result))\n",
            "/usr/local/lib/python3.10/dist-packages/sklearn/metrics/_classification.py:1344: UndefinedMetricWarning: Precision is ill-defined and being set to 0.0 in labels with no predicted samples. Use `zero_division` parameter to control this behavior.\n",
            "  _warn_prf(average, modifier, msg_start, len(result))\n"
          ]
        },
        {
          "output_type": "stream",
          "name": "stdout",
          "text": [
            "| Evaluation                                |   Accuracy | F1-Score          |   Sensitivity |   Specificity |\n",
            "|-------------------------------------------|------------|-------------------|---------------|---------------|\n",
            "| 10-fold Cross Validation                  |      0.805 | 0.446 (+/- 0.217) |          0.99 |          0.62 |\n",
            "| 75% training, 25% testing                 |      0.46  | 0.315             |          0.5  |          0.23 |\n",
            "| 50% training, 25% validation, 25% testing |      0.42  | 0.296             |          0.5  |          0.21 |\n",
            "\n",
            "Using K-NN:\n",
            "| Evaluation                                |   Accuracy | F1-Score          |   Sensitivity |   Specificity |\n",
            "|-------------------------------------------|------------|-------------------|---------------|---------------|\n",
            "| 10-fold Cross Validation                  |      0.905 | 0.862 (+/- 0.082) |         0.94  |         0.87  |\n",
            "| 75% training, 25% testing                 |      0.88  | 0.879             |         0.879 |         0.879 |\n",
            "| 50% training, 25% validation, 25% testing |      0.86  | 0.857             |         0.86  |         0.856 |\n",
            "\n",
            "Classification for dataset CPB4\n",
            "\n",
            "Using SVM:\n",
            "| Evaluation                                |   Accuracy | F1-Score          |   Sensitivity |   Specificity |\n",
            "|-------------------------------------------|------------|-------------------|---------------|---------------|\n",
            "| 10-fold Cross Validation                  |       0.8  | 0.446 (+/- 0.216) |           1   |          0.6  |\n",
            "| 75% training, 25% testing                 |       0.46 | 0.315             |           0.5 |          0.23 |\n",
            "| 50% training, 25% validation, 25% testing |       0.42 | 0.296             |           0.5 |          0.21 |\n",
            "\n",
            "Using K-NN:\n"
          ]
        },
        {
          "output_type": "stream",
          "name": "stderr",
          "text": [
            "/usr/local/lib/python3.10/dist-packages/sklearn/metrics/_classification.py:1344: UndefinedMetricWarning: Precision is ill-defined and being set to 0.0 in labels with no predicted samples. Use `zero_division` parameter to control this behavior.\n",
            "  _warn_prf(average, modifier, msg_start, len(result))\n",
            "/usr/local/lib/python3.10/dist-packages/sklearn/metrics/_classification.py:1344: UndefinedMetricWarning: Precision is ill-defined and being set to 0.0 in labels with no predicted samples. Use `zero_division` parameter to control this behavior.\n",
            "  _warn_prf(average, modifier, msg_start, len(result))\n"
          ]
        },
        {
          "output_type": "stream",
          "name": "stdout",
          "text": [
            "| Evaluation                                |   Accuracy | F1-Score          |   Sensitivity |   Specificity |\n",
            "|-------------------------------------------|------------|-------------------|---------------|---------------|\n",
            "| 10-fold Cross Validation                  |      0.915 | 0.886 (+/- 0.077) |         0.96  |         0.87  |\n",
            "| 75% training, 25% testing                 |      0.88  | 0.879             |         0.879 |         0.879 |\n",
            "| 50% training, 25% validation, 25% testing |      0.88  | 0.879             |         0.89  |         0.88  |\n",
            "\n",
            "Classification for dataset CPB5\n",
            "\n",
            "Using SVM:\n"
          ]
        },
        {
          "output_type": "stream",
          "name": "stderr",
          "text": [
            "/usr/local/lib/python3.10/dist-packages/sklearn/metrics/_classification.py:1344: UndefinedMetricWarning: Precision is ill-defined and being set to 0.0 in labels with no predicted samples. Use `zero_division` parameter to control this behavior.\n",
            "  _warn_prf(average, modifier, msg_start, len(result))\n",
            "/usr/local/lib/python3.10/dist-packages/sklearn/metrics/_classification.py:1344: UndefinedMetricWarning: Precision is ill-defined and being set to 0.0 in labels with no predicted samples. Use `zero_division` parameter to control this behavior.\n",
            "  _warn_prf(average, modifier, msg_start, len(result))\n"
          ]
        },
        {
          "output_type": "stream",
          "name": "stdout",
          "text": [
            "| Evaluation                                |   Accuracy | F1-Score          |   Sensitivity |   Specificity |\n",
            "|-------------------------------------------|------------|-------------------|---------------|---------------|\n",
            "| 10-fold Cross Validation                  |      0.667 | 0.398 (+/- 0.037) |           0   |         1     |\n",
            "| 75% training, 25% testing                 |      0.667 | 0.400             |           0.5 |         0.333 |\n",
            "| 50% training, 25% validation, 25% testing |      0.707 | 0.414             |           0.5 |         0.353 |\n",
            "\n",
            "Using K-NN:\n",
            "| Evaluation                                |   Accuracy | F1-Score          |   Sensitivity |   Specificity |\n",
            "|-------------------------------------------|------------|-------------------|---------------|---------------|\n",
            "| 10-fold Cross Validation                  |      0.883 | 0.849 (+/- 0.058) |         0.84  |         0.905 |\n",
            "| 75% training, 25% testing                 |      0.88  | 0.869             |         0.88  |         0.861 |\n",
            "| 50% training, 25% validation, 25% testing |      0.88  | 0.861             |         0.875 |         0.85  |\n",
            "\n",
            "Classification for dataset CPB6\n",
            "\n",
            "Using SVM:\n"
          ]
        },
        {
          "output_type": "stream",
          "name": "stderr",
          "text": [
            "/usr/local/lib/python3.10/dist-packages/sklearn/metrics/_classification.py:1344: UndefinedMetricWarning: Precision is ill-defined and being set to 0.0 in labels with no predicted samples. Use `zero_division` parameter to control this behavior.\n",
            "  _warn_prf(average, modifier, msg_start, len(result))\n",
            "/usr/local/lib/python3.10/dist-packages/sklearn/metrics/_classification.py:1344: UndefinedMetricWarning: Precision is ill-defined and being set to 0.0 in labels with no predicted samples. Use `zero_division` parameter to control this behavior.\n",
            "  _warn_prf(average, modifier, msg_start, len(result))\n"
          ]
        },
        {
          "output_type": "stream",
          "name": "stdout",
          "text": [
            "| Evaluation                                |   Accuracy | F1-Score          |   Sensitivity |   Specificity |\n",
            "|-------------------------------------------|------------|-------------------|---------------|---------------|\n",
            "| 10-fold Cross Validation                  |      0.667 | 0.398 (+/- 0.037) |           0   |         1     |\n",
            "| 75% training, 25% testing                 |      0.667 | 0.400             |           0.5 |         0.333 |\n",
            "| 50% training, 25% validation, 25% testing |      0.707 | 0.414             |           0.5 |         0.353 |\n",
            "\n",
            "Using K-NN:\n",
            "| Evaluation                                |   Accuracy | F1-Score          |   Sensitivity |   Specificity |\n",
            "|-------------------------------------------|------------|-------------------|---------------|---------------|\n",
            "| 10-fold Cross Validation                  |      0.9   | 0.830 (+/- 0.070) |         0.9   |         0.9   |\n",
            "| 75% training, 25% testing                 |      0.853 | 0.842             |         0.86  |         0.833 |\n",
            "| 50% training, 25% validation, 25% testing |      0.92  | 0.910             |         0.943 |         0.893 |\n",
            "\n",
            "Classification for dataset CPB7\n",
            "\n",
            "Using SVM:\n"
          ]
        },
        {
          "output_type": "stream",
          "name": "stderr",
          "text": [
            "/usr/local/lib/python3.10/dist-packages/sklearn/metrics/_classification.py:1344: UndefinedMetricWarning: Precision is ill-defined and being set to 0.0 in labels with no predicted samples. Use `zero_division` parameter to control this behavior.\n",
            "  _warn_prf(average, modifier, msg_start, len(result))\n",
            "/usr/local/lib/python3.10/dist-packages/sklearn/metrics/_classification.py:1344: UndefinedMetricWarning: Precision is ill-defined and being set to 0.0 in labels with no predicted samples. Use `zero_division` parameter to control this behavior.\n",
            "  _warn_prf(average, modifier, msg_start, len(result))\n"
          ]
        },
        {
          "output_type": "stream",
          "name": "stdout",
          "text": [
            "| Evaluation                                |   Accuracy | F1-Score          |   Sensitivity |   Specificity |\n",
            "|-------------------------------------------|------------|-------------------|---------------|---------------|\n",
            "| 10-fold Cross Validation                  |      0.723 | 0.436 (+/- 0.150) |         0.995 |          0.45 |\n",
            "| 75% training, 25% testing                 |      0.48  | 0.324             |         0.5   |          0.24 |\n",
            "| 50% training, 25% validation, 25% testing |      0.54  | 0.351             |         0.5   |          0.27 |\n",
            "\n",
            "Using K-NN:\n",
            "| Evaluation                                |   Accuracy | F1-Score          |   Sensitivity |   Specificity |\n",
            "|-------------------------------------------|------------|-------------------|---------------|---------------|\n",
            "| 10-fold Cross Validation                  |      0.895 | 0.851 (+/- 0.051) |         0.915 |         0.875 |\n",
            "| 75% training, 25% testing                 |      0.86  | 0.860             |         0.862 |         0.864 |\n",
            "| 50% training, 25% validation, 25% testing |      0.89  | 0.889             |         0.89  |         0.889 |\n",
            "Results saved to 'classification_results.xlsx'\n"
          ]
        }
      ]
    },
    {
      "cell_type": "code",
      "source": [],
      "metadata": {
        "id": "IYsagvyAu4-6"
      },
      "execution_count": null,
      "outputs": []
    }
  ]
}